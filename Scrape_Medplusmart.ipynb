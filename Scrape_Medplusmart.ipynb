{
 "cells": [
  {
   "cell_type": "code",
   "execution_count": 1,
   "metadata": {},
   "outputs": [],
   "source": [
    "import json \n",
    "from selenium import webdriver\n",
    "from selenium.webdriver.common.keys import Keys\n",
    "from selenium.webdriver.common.by import By\n",
    "import time \n",
    "from selenium.common.exceptions import NoSuchElementException\n",
    "from selenium.common.exceptions import StaleElementReferenceException\n",
    "from selenium.webdriver.common.by import By\n",
    "from selenium.webdriver.support.ui import WebDriverWait\n",
    "from selenium.webdriver.support import expected_conditions\n",
    "from selenium.common import exceptions\n",
    "import pandas as pd\n",
    "import re"
   ]
  },
  {
   "cell_type": "code",
   "execution_count": 2,
   "metadata": {},
   "outputs": [],
   "source": [
    "browser = None\n",
    "try:\n",
    "    browser = webdriver.Chrome(executable_path='C:\\\\Users\\\\PRASANNA\\\\chromedriver_win32_85\\\\chromedriver.exe')\n",
    "except Exception as error:\n",
    "    print(error)"
   ]
  },
  {
   "cell_type": "code",
   "execution_count": 3,
   "metadata": {},
   "outputs": [],
   "source": [
    "def get_product_details_of_given_comps(comp_links):\n",
    "    all_product_details=pd.DataFrame(columns=['medicine_name','mfg_name','comp_id'])\n",
    "    for link in comp_links :\n",
    "        _id = link.split('/')[-1]\n",
    "        try:\n",
    "            browser.get(link)\n",
    "        except Exception as err:\n",
    "            print(str(err))\n",
    "            break\n",
    "    \n",
    "        print('\\nSuccessfully Accessed:',link)\n",
    "        medicine_name_per_composition = browser.find_elements_by_xpath('//*[@id=\"productSearch\"]/tbody/tr/td[1]/div/span/a')\n",
    "        medicine_mfg_per_composition = browser.find_elements_by_xpath('//*[@id=\"productSearch\"]/tbody/tr/td[2]')\n",
    "        product_details = {}\n",
    "        medicine_name=[]\n",
    "        mfg_name=[]\n",
    "        ids=[]\n",
    "        for i,j in zip(medicine_name_per_composition,medicine_mfg_per_composition):\n",
    "            x=i.get_attribute(\"text\")\n",
    "            y=j.get_attribute('textContent')\n",
    "            medicine_name.append(x)\n",
    "            mfg_name.append(y)\n",
    "            ids.append(_id)\n",
    "        product_details['medicine_name']=medicine_name \n",
    "        product_details['mfg_name']=mfg_name\n",
    "        product_details['comp_id']=ids\n",
    "        all_product_details=all_product_details.append(pd.DataFrame.from_dict(product_details),ignore_index=True)\n",
    "    return all_product_details\n"
   ]
  },
  {
   "cell_type": "code",
   "execution_count": 4,
   "metadata": {},
   "outputs": [
    {
     "name": "stdout",
     "output_type": "stream",
     "text": [
      "\n",
      "Successfully Accessed: https://www.medplusmart.com/compositionProducts/Aceclofenac-100-MG/3089\n",
      "\n",
      "Successfully Accessed: https://www.medplusmart.com/compositionProducts/Piroxicam-20-MG/3940\n",
      "         medicine_name                                  mfg_name comp_id\n",
      "0      B DAC 100MG TAB                        BIOCIN HEALTH CARE    3089\n",
      "1  CANEFO SR 100MG TAB                                 MEDOPHARM    3089\n",
      "2    CANPARA 100MG TAB                          AMERICAN BIOCARE    3089\n",
      "3      CECLO 100MG TAB                ANDIC LIFESCIENCES PVT LTD    3089\n",
      "4       PACE 100MG TAB  COMMON WEALTH LABORATORIES INDIA PVT LTD    3089\n",
      "         medicine_name                     mfg_name comp_id\n",
      "529  X DOL 20MG DT TAB  OLCARE LABORATORIES PVT LTD    3940\n",
      "530        YAXI DT TAB             CUBIT HEALTHCARE    3940\n",
      "531   ZAXI DT 20MG TAB               ZUBIT LIFECARE    3940\n",
      "532   ZEEPAIN 20MG CAP        LARK LABORATORIES LTD    3940\n",
      "533   ZOXICAM 20MG TAB             ZODAK HEALTHCARE    3940\n"
     ]
    }
   ],
   "source": [
    "#comp_links should be getting links from excel file \n",
    "comp_links = ['https://www.medplusmart.com/compositionProducts/Aceclofenac-100-MG/3089','https://www.medplusmart.com/compositionProducts/Piroxicam-20-MG/3940'] #Just to check\n",
    "\n",
    "df = get_product_details_of_given_comps(comp_links)\n",
    "print(df.head())\n",
    "print(df.tail())"
   ]
  }
 ],
 "metadata": {
  "kernelspec": {
   "display_name": "Python 3",
   "language": "python",
   "name": "python3"
  },
  "language_info": {
   "codemirror_mode": {
    "name": "ipython",
    "version": 3
   },
   "file_extension": ".py",
   "mimetype": "text/x-python",
   "name": "python",
   "nbconvert_exporter": "python",
   "pygments_lexer": "ipython3",
   "version": "3.7.6"
  }
 },
 "nbformat": 4,
 "nbformat_minor": 4
}
